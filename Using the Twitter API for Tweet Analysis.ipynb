{
 "cells": [
  {
   "cell_type": "markdown",
   "metadata": {},
   "source": [
    "# Twitter API Access\n",
    "\n",
    "Twitter implements OAuth 1.0A as its standard authentication mechanism, and in order to use it to make requests to Twitter's API, you'll need to go to https://dev.twitter.com/apps and create a sample application.\n",
    "\n",
    "Choose any name for your application, write a description and use `http://google.com` for the website.\n",
    "\n",
    "Under **Key and Access Tokens**, there are four primary identifiers you'll need to note for an OAuth 1.0A workflow: \n",
    "* consumer key, \n",
    "* consumer secret, \n",
    "* access token, and \n",
    "* access token secret (Click on Create Access Token to create those).\n",
    "\n",
    "Note that you will need an ordinary Twitter account in order to login, create an app, and get these credentials."
   ]
  },
  {
   "cell_type": "markdown",
   "metadata": {},
   "source": [
    "The first time you execute the notebook, add all credentials so that you can save them in the `pkl` file, then you can remove the secret keys from the notebook because they will just be loaded from the `pkl` file.\n",
    "\n",
    "The `pkl` file contains sensitive information that can be used to take control of your twitter acccount, **do not share it**."
   ]
  },
  {
   "cell_type": "code",
   "execution_count": 12,
   "metadata": {},
   "outputs": [],
   "source": [
    "import pickle\n",
    "import os"
   ]
  },
  {
   "cell_type": "code",
   "execution_count": 13,
   "metadata": {},
   "outputs": [],
   "source": [
    "if not os.path.exists('secret_twitter_credentials.pkl'):\n",
    "    Twitter={}\n",
    "    Twitter['Consumer Key'] = 'Your_Key'\n",
    "    Twitter['Consumer Secret'] = 'Your_Key'\n",
    "    Twitter['Access Token'] = 'Your_Key'\n",
    "    Twitter['Access Token Secret'] = 'Your_Key'\n",
    "    with open('secret_twitter_credentials.pkl','wb') as f:\n",
    "        pickle.dump(Twitter, f)\n",
    "else:\n",
    "    Twitter=pickle.load(open('secret_twitter_credentials.pkl','rb'))"
   ]
  },
  {
   "cell_type": "markdown",
   "metadata": {},
   "source": [
    "Install the `twitter` package to interface with the Twitter API"
   ]
  },
  {
   "cell_type": "code",
   "execution_count": 14,
   "metadata": {},
   "outputs": [
    {
     "name": "stdout",
     "output_type": "stream",
     "text": [
      "Requirement already satisfied: twitter in c:\\users\\anshuman\\anaconda3\\lib\\site-packages (1.18.0)\n"
     ]
    }
   ],
   "source": [
    "!pip install twitter"
   ]
  },
  {
   "cell_type": "markdown",
   "metadata": {},
   "source": [
    "## Example 1. Authorizing an application to access Twitter account data"
   ]
  },
  {
   "cell_type": "code",
   "execution_count": 15,
   "metadata": {},
   "outputs": [
    {
     "name": "stdout",
     "output_type": "stream",
     "text": [
      "<twitter.api.Twitter object at 0x000000370B5026D8>\n"
     ]
    }
   ],
   "source": [
    "import twitter\n",
    "\n",
    "auth = twitter.oauth.OAuth(Twitter['Access Token'],\n",
    "                           Twitter['Access Token Secret'],\n",
    "                           Twitter['Consumer Key'],\n",
    "                           Twitter['Consumer Secret'])\n",
    "\n",
    "twitter_api = twitter.Twitter(auth=auth)\n",
    "\n",
    "# Nothing to see by displaying twitter_api except that it's now a\n",
    "# defined variable\n",
    "\n",
    "print(twitter_api)"
   ]
  },
  {
   "cell_type": "markdown",
   "metadata": {},
   "source": [
    "## Example 2. Retrieving trends"
   ]
  },
  {
   "cell_type": "markdown",
   "metadata": {},
   "source": [
    "### You may find WhereOnEarth ID (WOEID) on : http://woeid.rosselliot.co.nz/"
   ]
  },
  {
   "cell_type": "code",
   "execution_count": 16,
   "metadata": {},
   "outputs": [],
   "source": [
    "WORLD_WOE_ID = 1"
   ]
  },
  {
   "cell_type": "code",
   "execution_count": 17,
   "metadata": {},
   "outputs": [],
   "source": [
    "LOCAL_WOE_ID=2295412\n",
    "\n",
    "#2295412 WOEID for Pune, India\n",
    "# Prefix ID with the underscore for query string parameterization.\n",
    "# Without the underscore, the twitter package appends the ID value\n",
    "# to the URL itself as a special case keyword argument.\n",
    "\n",
    "world_trends = twitter_api.trends.place(_id=WORLD_WOE_ID)\n",
    "local_trends = twitter_api.trends.place(_id=LOCAL_WOE_ID)"
   ]
  },
  {
   "cell_type": "code",
   "execution_count": 18,
   "metadata": {},
   "outputs": [
    {
     "data": {
      "text/plain": [
       "[{'trends': [{'name': '#LSUvsTAMU',\n",
       "    'url': 'http://twitter.com/search?q=%23LSUvsTAMU',\n",
       "    'promoted_content': None,\n",
       "    'query': '%23LSUvsTAMU',\n",
       "    'tweet_volume': 36954},\n",
       "   {'name': 'Dwight Howard',\n",
       "    'url': 'http://twitter.com/search?q=%22Dwight+Howard%22',\n",
       "    'promoted_content': None,\n",
       "    'query': '%22Dwight+Howard%22',\n",
       "    'tweet_volume': 139180},\n",
       "   {'name': 'Coach O',\n",
       "    'url': 'http://twitter.com/search?q=%22Coach+O%22',\n",
       "    'promoted_content': None,\n",
       "    'query': '%22Coach+O%22',\n",
       "    'tweet_volume': None},\n",
       "   {'name': '#LiddellOrtiz3',\n",
       "    'url': 'http://twitter.com/search?q=%23LiddellOrtiz3',\n",
       "    'promoted_content': None,\n",
       "    'query': '%23LiddellOrtiz3',\n",
       "    'tweet_volume': 15123},\n",
       "   {'name': 'Notre Dame',\n",
       "    'url': 'http://twitter.com/search?q=%22Notre+Dame%22',\n",
       "    'promoted_content': None,\n",
       "    'query': '%22Notre+Dame%22',\n",
       "    'tweet_volume': 31938},\n",
       "   {'name': 'Ricky Jay',\n",
       "    'url': 'http://twitter.com/search?q=%22Ricky+Jay%22',\n",
       "    'promoted_content': None,\n",
       "    'query': '%22Ricky+Jay%22',\n",
       "    'tweet_volume': 10765},\n",
       "   {'name': '#MannKiBaat50',\n",
       "    'url': 'http://twitter.com/search?q=%23MannKiBaat50',\n",
       "    'promoted_content': None,\n",
       "    'query': '%23MannKiBaat50',\n",
       "    'tweet_volume': None},\n",
       "   {'name': '#وش_اجمل_كلام_سمعته',\n",
       "    'url': 'http://twitter.com/search?q=%23%D9%88%D8%B4_%D8%A7%D8%AC%D9%85%D9%84_%D9%83%D9%84%D8%A7%D9%85_%D8%B3%D9%85%D8%B9%D8%AA%D9%87',\n",
       "    'promoted_content': None,\n",
       "    'query': '%23%D9%88%D8%B4_%D8%A7%D8%AC%D9%85%D9%84_%D9%83%D9%84%D8%A7%D9%85_%D8%B3%D9%85%D8%B9%D8%AA%D9%87',\n",
       "    'tweet_volume': 19021},\n",
       "   {'name': '#AUnMesDeNavidad',\n",
       "    'url': 'http://twitter.com/search?q=%23AUnMesDeNavidad',\n",
       "    'promoted_content': None,\n",
       "    'query': '%23AUnMesDeNavidad',\n",
       "    'tweet_volume': None},\n",
       "   {'name': 'Aggies',\n",
       "    'url': 'http://twitter.com/search?q=Aggies',\n",
       "    'promoted_content': None,\n",
       "    'query': 'Aggies',\n",
       "    'tweet_volume': 15627},\n",
       "   {'name': 'LSU-A&M',\n",
       "    'url': 'http://twitter.com/search?q=LSU-A%26M',\n",
       "    'promoted_content': None,\n",
       "    'query': 'LSU-A%26M',\n",
       "    'tweet_volume': None},\n",
       "   {'name': 'Jimbo',\n",
       "    'url': 'http://twitter.com/search?q=Jimbo',\n",
       "    'promoted_content': None,\n",
       "    'query': 'Jimbo',\n",
       "    'tweet_volume': 11519},\n",
       "   {'name': 'Rogers',\n",
       "    'url': 'http://twitter.com/search?q=Rogers',\n",
       "    'promoted_content': None,\n",
       "    'query': 'Rogers',\n",
       "    'tweet_volume': 14221},\n",
       "   {'name': 'Clemson',\n",
       "    'url': 'http://twitter.com/search?q=Clemson',\n",
       "    'promoted_content': None,\n",
       "    'query': 'Clemson',\n",
       "    'tweet_volume': 38417},\n",
       "   {'name': 'Liguilla',\n",
       "    'url': 'http://twitter.com/search?q=Liguilla',\n",
       "    'promoted_content': None,\n",
       "    'query': 'Liguilla',\n",
       "    'tweet_volume': 15203},\n",
       "   {'name': 'Clay Helton',\n",
       "    'url': 'http://twitter.com/search?q=%22Clay+Helton%22',\n",
       "    'promoted_content': None,\n",
       "    'query': '%22Clay+Helton%22',\n",
       "    'tweet_volume': None},\n",
       "   {'name': 'Kellen Mond',\n",
       "    'url': 'http://twitter.com/search?q=%22Kellen+Mond%22',\n",
       "    'promoted_content': None,\n",
       "    'query': '%22Kellen+Mond%22',\n",
       "    'tweet_volume': None},\n",
       "   {'name': 'Greedy Williams',\n",
       "    'url': 'http://twitter.com/search?q=%22Greedy+Williams%22',\n",
       "    'promoted_content': None,\n",
       "    'query': '%22Greedy+Williams%22',\n",
       "    'tweet_volume': None},\n",
       "   {'name': 'コミティア',\n",
       "    'url': 'http://twitter.com/search?q=%E3%82%B3%E3%83%9F%E3%83%86%E3%82%A3%E3%82%A2',\n",
       "    'promoted_content': None,\n",
       "    'query': '%E3%82%B3%E3%83%9F%E3%83%86%E3%82%A3%E3%82%A2',\n",
       "    'tweet_volume': 84548},\n",
       "   {'name': 'JJ Barea',\n",
       "    'url': 'http://twitter.com/search?q=%22JJ+Barea%22',\n",
       "    'promoted_content': None,\n",
       "    'query': '%22JJ+Barea%22',\n",
       "    'tweet_volume': None},\n",
       "   {'name': 'Gudiño',\n",
       "    'url': 'http://twitter.com/search?q=Gudi%C3%B1o',\n",
       "    'promoted_content': None,\n",
       "    'query': 'Gudi%C3%B1o',\n",
       "    'tweet_volume': None},\n",
       "   {'name': '#امطار_الشرقيه',\n",
       "    'url': 'http://twitter.com/search?q=%23%D8%A7%D9%85%D8%B7%D8%A7%D8%B1_%D8%A7%D9%84%D8%B4%D8%B1%D9%82%D9%8A%D9%87',\n",
       "    'promoted_content': None,\n",
       "    'query': '%23%D8%A7%D9%85%D8%B7%D8%A7%D8%B1_%D8%A7%D9%84%D8%B4%D8%B1%D9%82%D9%8A%D9%87',\n",
       "    'tweet_volume': None},\n",
       "   {'name': '#GoIrish',\n",
       "    'url': 'http://twitter.com/search?q=%23GoIrish',\n",
       "    'promoted_content': None,\n",
       "    'query': '%23GoIrish',\n",
       "    'tweet_volume': 11419},\n",
       "   {'name': '#HariGuruNasional',\n",
       "    'url': 'http://twitter.com/search?q=%23HariGuruNasional',\n",
       "    'promoted_content': None,\n",
       "    'query': '%23HariGuruNasional',\n",
       "    'tweet_volume': 15274},\n",
       "   {'name': '#ロボコン',\n",
       "    'url': 'http://twitter.com/search?q=%23%E3%83%AD%E3%83%9C%E3%82%B3%E3%83%B3',\n",
       "    'promoted_content': None,\n",
       "    'query': '%23%E3%83%AD%E3%83%9C%E3%82%B3%E3%83%B3',\n",
       "    'tweet_volume': 13840},\n",
       "   {'name': '#BakeOffBrasil',\n",
       "    'url': 'http://twitter.com/search?q=%23BakeOffBrasil',\n",
       "    'promoted_content': None,\n",
       "    'query': '%23BakeOffBrasil',\n",
       "    'tweet_volume': None},\n",
       "   {'name': '#BYUvsUTAH',\n",
       "    'url': 'http://twitter.com/search?q=%23BYUvsUTAH',\n",
       "    'promoted_content': None,\n",
       "    'query': '%23BYUvsUTAH',\n",
       "    'tweet_volume': None},\n",
       "   {'name': '#KanaaTrailer',\n",
       "    'url': 'http://twitter.com/search?q=%23KanaaTrailer',\n",
       "    'promoted_content': None,\n",
       "    'query': '%23KanaaTrailer',\n",
       "    'tweet_volume': None},\n",
       "   {'name': '#Ambareesh',\n",
       "    'url': 'http://twitter.com/search?q=%23Ambareesh',\n",
       "    'promoted_content': None,\n",
       "    'query': '%23Ambareesh',\n",
       "    'tweet_volume': 14285},\n",
       "   {'name': '#MandirWahinBanayenge',\n",
       "    'url': 'http://twitter.com/search?q=%23MandirWahinBanayenge',\n",
       "    'promoted_content': None,\n",
       "    'query': '%23MandirWahinBanayenge',\n",
       "    'tweet_volume': None},\n",
       "   {'name': '#DomingoDetremuraSDV',\n",
       "    'url': 'http://twitter.com/search?q=%23DomingoDetremuraSDV',\n",
       "    'promoted_content': None,\n",
       "    'query': '%23DomingoDetremuraSDV',\n",
       "    'tweet_volume': None},\n",
       "   {'name': '#lovaticsarebeautiful',\n",
       "    'url': 'http://twitter.com/search?q=%23lovaticsarebeautiful',\n",
       "    'promoted_content': None,\n",
       "    'query': '%23lovaticsarebeautiful',\n",
       "    'tweet_volume': None},\n",
       "   {'name': '#apostilla',\n",
       "    'url': 'http://twitter.com/search?q=%23apostilla',\n",
       "    'promoted_content': None,\n",
       "    'query': '%23apostilla',\n",
       "    'tweet_volume': None},\n",
       "   {'name': '#HBDHockeyLegendDilipTirkey',\n",
       "    'url': 'http://twitter.com/search?q=%23HBDHockeyLegendDilipTirkey',\n",
       "    'promoted_content': None,\n",
       "    'query': '%23HBDHockeyLegendDilipTirkey',\n",
       "    'tweet_volume': None},\n",
       "   {'name': '#PodemosHablar',\n",
       "    'url': 'http://twitter.com/search?q=%23PodemosHablar',\n",
       "    'promoted_content': None,\n",
       "    'query': '%23PodemosHablar',\n",
       "    'tweet_volume': None},\n",
       "   {'name': '#BivolPascal',\n",
       "    'url': 'http://twitter.com/search?q=%23BivolPascal',\n",
       "    'promoted_content': None,\n",
       "    'query': '%23BivolPascal',\n",
       "    'tweet_volume': None},\n",
       "   {'name': '#ThreeWordsToForeverFamSunday',\n",
       "    'url': 'http://twitter.com/search?q=%23ThreeWordsToForeverFamSunday',\n",
       "    'promoted_content': None,\n",
       "    'query': '%23ThreeWordsToForeverFamSunday',\n",
       "    'tweet_volume': 38674},\n",
       "   {'name': '#صباح_المطر',\n",
       "    'url': 'http://twitter.com/search?q=%23%D8%B5%D8%A8%D8%A7%D8%AD_%D8%A7%D9%84%D9%85%D8%B7%D8%B1',\n",
       "    'promoted_content': None,\n",
       "    'query': '%23%D8%B5%D8%A8%D8%A7%D8%AD_%D8%A7%D9%84%D9%85%D8%B7%D8%B1',\n",
       "    'tweet_volume': None},\n",
       "   {'name': '#Run4OurSoldiers',\n",
       "    'url': 'http://twitter.com/search?q=%23Run4OurSoldiers',\n",
       "    'promoted_content': None,\n",
       "    'query': '%23Run4OurSoldiers',\n",
       "    'tweet_volume': None},\n",
       "   {'name': '#مافي_الفار_طاهر',\n",
       "    'url': 'http://twitter.com/search?q=%23%D9%85%D8%A7%D9%81%D9%8A_%D8%A7%D9%84%D9%81%D8%A7%D8%B1_%D8%B7%D8%A7%D9%87%D8%B1',\n",
       "    'promoted_content': None,\n",
       "    'query': '%23%D9%85%D8%A7%D9%81%D9%8A_%D8%A7%D9%84%D9%81%D8%A7%D8%B1_%D8%B7%D8%A7%D9%87%D8%B1',\n",
       "    'tweet_volume': 34471}],\n",
       "  'as_of': '2018-11-25T05:56:04Z',\n",
       "  'created_at': '2018-11-25T05:49:32Z',\n",
       "  'locations': [{'name': 'Worldwide', 'woeid': 1}]}]"
      ]
     },
     "execution_count": 18,
     "metadata": {},
     "output_type": "execute_result"
    }
   ],
   "source": [
    "world_trends[:2]"
   ]
  },
  {
   "cell_type": "code",
   "execution_count": 19,
   "metadata": {},
   "outputs": [
    {
     "name": "stdout",
     "output_type": "stream",
     "text": [
      "<class 'twitter.api.TwitterListResponse'>\n",
      "['trends', 'as_of', 'created_at', 'locations']\n",
      "[{'name': '#MannKiBaat50', 'url': 'http://twitter.com/search?q=%23MannKiBaat50', 'promoted_content': None, 'query': '%23MannKiBaat50', 'tweet_volume': None}, {'name': '#KanaaTrailer', 'url': 'http://twitter.com/search?q=%23KanaaTrailer', 'promoted_content': None, 'query': '%23KanaaTrailer', 'tweet_volume': None}, {'name': '#Ambareesh', 'url': 'http://twitter.com/search?q=%23Ambareesh', 'promoted_content': None, 'query': '%23Ambareesh', 'tweet_volume': 14285}, {'name': '#MandirWahinBanayenge', 'url': 'http://twitter.com/search?q=%23MandirWahinBanayenge', 'promoted_content': None, 'query': '%23MandirWahinBanayenge', 'tweet_volume': None}, {'name': '#HBDHockeyLegendDilipTirkey', 'url': 'http://twitter.com/search?q=%23HBDHockeyLegendDilipTirkey', 'promoted_content': None, 'query': '%23HBDHockeyLegendDilipTirkey', 'tweet_volume': None}, {'name': 'Shopian', 'url': 'http://twitter.com/search?q=Shopian', 'promoted_content': None, 'query': 'Shopian', 'tweet_volume': None}, {'name': 'CM of Tripura', 'url': 'http://twitter.com/search?q=%22CM+of+Tripura%22', 'promoted_content': None, 'query': '%22CM+of+Tripura%22', 'tweet_volume': None}, {'name': 'MoS MEA', 'url': 'http://twitter.com/search?q=%22MoS+MEA%22', 'promoted_content': None, 'query': '%22MoS+MEA%22', 'tweet_volume': None}, {'name': 'Barcelona', 'url': 'http://twitter.com/search?q=Barcelona', 'promoted_content': None, 'query': 'Barcelona', 'tweet_volume': 101489}, {'name': 'Dharma Sabha', 'url': 'http://twitter.com/search?q=%22Dharma+Sabha%22', 'promoted_content': None, 'query': '%22Dharma+Sabha%22', 'tweet_volume': None}, {'name': 'signature bridge', 'url': 'http://twitter.com/search?q=%22signature+bridge%22', 'promoted_content': None, 'query': '%22signature+bridge%22', 'tweet_volume': None}, {'name': '#102NotOutOnZB', 'url': 'http://twitter.com/search?q=%23102NotOutOnZB', 'promoted_content': None, 'query': '%23102NotOutOnZB', 'tweet_volume': None}, {'name': '#Run4OurSoldiers', 'url': 'http://twitter.com/search?q=%23Run4OurSoldiers', 'promoted_content': None, 'query': '%23Run4OurSoldiers', 'tweet_volume': None}, {'name': '#BajajAllianzLifePlankathon', 'url': 'http://twitter.com/search?q=%23BajajAllianzLifePlankathon', 'promoted_content': None, 'query': '%23BajajAllianzLifePlankathon', 'tweet_volume': None}, {'name': '#MaayaBimbumTeaser', 'url': 'http://twitter.com/search?q=%23MaayaBimbumTeaser', 'promoted_content': None, 'query': '%23MaayaBimbumTeaser', 'tweet_volume': None}, {'name': '#AUSvENG', 'url': 'http://twitter.com/search?q=%23AUSvENG', 'promoted_content': None, 'query': '%23AUSvENG', 'tweet_volume': None}, {'name': '#NexusMCELitClub', 'url': 'http://twitter.com/search?q=%23NexusMCELitClub', 'promoted_content': None, 'query': '%23NexusMCELitClub', 'tweet_volume': None}, {'name': '#SundayThoughts', 'url': 'http://twitter.com/search?q=%23SundayThoughts', 'promoted_content': None, 'query': '%23SundayThoughts', 'tweet_volume': None}, {'name': '#OpeningDoors', 'url': 'http://twitter.com/search?q=%23OpeningDoors', 'promoted_content': None, 'query': '%23OpeningDoors', 'tweet_volume': None}, {'name': '#मर्दानी_भक्त_वीरांगना', 'url': 'http://twitter.com/search?q=%23%E0%A4%AE%E0%A4%B0%E0%A5%8D%E0%A4%A6%E0%A4%BE%E0%A4%A8%E0%A5%80_%E0%A4%AD%E0%A4%95%E0%A5%8D%E0%A4%A4_%E0%A4%B5%E0%A5%80%E0%A4%B0%E0%A4%BE%E0%A4%82%E0%A4%97%E0%A4%A8%E0%A4%BE', 'promoted_content': None, 'query': '%23%E0%A4%AE%E0%A4%B0%E0%A5%8D%E0%A4%A6%E0%A4%BE%E0%A4%A8%E0%A5%80_%E0%A4%AD%E0%A4%95%E0%A5%8D%E0%A4%A4_%E0%A4%B5%E0%A5%80%E0%A4%B0%E0%A4%BE%E0%A4%82%E0%A4%97%E0%A4%A8%E0%A4%BE', 'tweet_volume': 21936}, {'name': '#Walkathon', 'url': 'http://twitter.com/search?q=%23Walkathon', 'promoted_content': None, 'query': '%23Walkathon', 'tweet_volume': None}, {'name': '#AgniDevTrailer1', 'url': 'http://twitter.com/search?q=%23AgniDevTrailer1', 'promoted_content': None, 'query': '%23AgniDevTrailer1', 'tweet_volume': None}, {'name': '#KabirSingh', 'url': 'http://twitter.com/search?q=%23KabirSingh', 'promoted_content': None, 'query': '%23KabirSingh', 'tweet_volume': None}, {'name': '#IRW2018', 'url': 'http://twitter.com/search?q=%23IRW2018', 'promoted_content': None, 'query': '%23IRW2018', 'tweet_volume': None}, {'name': '#MaryKom', 'url': 'http://twitter.com/search?q=%23MaryKom', 'promoted_content': None, 'query': '%23MaryKom', 'tweet_volume': 56136}, {'name': '#AlturasG4', 'url': 'http://twitter.com/search?q=%23AlturasG4', 'promoted_content': None, 'query': '%23AlturasG4', 'tweet_volume': None}, {'name': '#BJPWinningMP', 'url': 'http://twitter.com/search?q=%23BJPWinningMP', 'promoted_content': None, 'query': '%23BJPWinningMP', 'tweet_volume': 45499}, {'name': '#EndhiraLogathuSundariye', 'url': 'http://twitter.com/search?q=%23EndhiraLogathuSundariye', 'promoted_content': None, 'query': '%23EndhiraLogathuSundariye', 'tweet_volume': None}, {'name': '#MereNaamTu', 'url': 'http://twitter.com/search?q=%23MereNaamTu', 'promoted_content': None, 'query': '%23MereNaamTu', 'tweet_volume': 28140}, {'name': '#MUMKOL', 'url': 'http://twitter.com/search?q=%23MUMKOL', 'promoted_content': None, 'query': '%23MUMKOL', 'tweet_volume': None}, {'name': '#RoyaltyRedefined', 'url': 'http://twitter.com/search?q=%23RoyaltyRedefined', 'promoted_content': None, 'query': '%23RoyaltyRedefined', 'tweet_volume': None}, {'name': '#TOTCHE', 'url': 'http://twitter.com/search?q=%23TOTCHE', 'promoted_content': None, 'query': '%23TOTCHE', 'tweet_volume': 66730}]\n"
     ]
    }
   ],
   "source": [
    "trends=local_trends\n",
    "print(type(trends))\n",
    "print(list(trends[0].keys()))\n",
    "print(trends[0]['trends'])"
   ]
  },
  {
   "cell_type": "markdown",
   "metadata": {},
   "source": [
    "## Example 3. Displaying API responses as pretty-printed JSON"
   ]
  },
  {
   "cell_type": "code",
   "execution_count": 22,
   "metadata": {},
   "outputs": [
    {
     "name": "stdout",
     "output_type": "stream",
     "text": [
      "[\n",
      " {\n",
      "  \"trends\": [\n",
      "   {\n",
      "    \"name\": \"#MannKiBaat50\",\n",
      "    \"url\": \"http://twitter.com/search?q=%23MannKiBaat50\",\n",
      "    \"promoted_content\": null,\n",
      "    \"query\": \"%23MannKiBaat50\",\n",
      "    \"tweet_volume\": null\n",
      "   },\n",
      "   {\n",
      "    \"name\": \"#KanaaTrailer\",\n",
      "    \"url\": \"http://twitter.com/search?q=%23KanaaTrailer\",\n",
      "    \"promoted_content\": null,\n",
      "    \"query\": \"%23KanaaTrailer\",\n",
      "    \"tweet_volume\": null\n",
      "   },\n",
      "   {\n",
      "    \"name\": \"#Ambareesh\",\n",
      "    \"url\": \"http://twitter.com/search?q=%23Ambareesh\",\n",
      "    \"promoted_content\": null,\n",
      "    \"query\": \"%23Ambareesh\",\n",
      "    \"tweet_volume\": 14443\n",
      "   },\n",
      "   {\n",
      "    \"name\": \"#Run4OurSoldiers\",\n",
      "    \"url\": \"http://twitter.com/search?q=%23Run4OurSoldiers\",\n",
      "    \"promoted_content\": null,\n",
      "    \"query\": \"%23Run4OurSoldiers\",\n",
      "    \"tweet_volume\": null\n",
      "   },\n",
      "   {\n",
      "    \"name\": \"#MandirWahinBanayenge\",\n",
      "    \"url\": \"http://twitter.com/search?q=%23MandirWahinBanayenge\",\n",
      "    \"promoted_content\": null,\n",
      "    \"query\": \"%23MandirWahinBanayenge\",\n",
      "    \"tweet_volume\": null\n",
      "   },\n",
      "   {\n",
      "    \"name\": \"Shopian\",\n",
      "    \"url\": \"http://twitter.com/search?q=Shopian\",\n",
      "    \"promoted_content\": null,\n",
      "    \"query\": \"Shopian\",\n",
      "    \"tweet_volume\": null\n",
      "   },\n",
      "   {\n",
      "    \"name\": \"MoS MEA\",\n",
      "    \"url\": \"http://twitter.com/search?q=%22MoS+MEA%22\",\n",
      "    \"promoted_content\": null,\n",
      "    \"query\": \"%22MoS+MEA%22\",\n",
      "    \"tweet_volume\": null\n",
      "   },\n",
      "   {\n",
      "    \"name\": \"CM of Tripura\",\n",
      "    \"url\": \"http://twitter.com/search?q=%22CM+of+Tripura%22\",\n",
      "    \"promoted_content\": null,\n",
      "    \"query\": \"%22CM+of+Tripura%22\",\n",
      "    \"tweet_volume\": null\n",
      "   },\n",
      "   {\n",
      "    \"name\": \"Barcelona\",\n",
      "    \"url\": \"http://twitter.com/search?q=Barcelona\",\n",
      "    \"promoted_content\": null,\n",
      "    \"query\": \"Barcelona\",\n",
      "    \"tweet_volume\": 101599\n",
      "   },\n",
      "   {\n",
      "    \"name\": \"#HBDHockeyLegendDilipTirkey\",\n",
      "    \"url\": \"http://twitter.com/search?q=%23HBDHockeyLegendDilipTirkey\",\n",
      "    \"promoted_content\": null,\n",
      "    \"query\": \"%23HBDHockeyLegendDilipTirkey\",\n",
      "    \"tweet_volume\": null\n",
      "   },\n",
      "   {\n",
      "    \"name\": \"#102NotOutOnZB\",\n",
      "    \"url\": \"http://twitter.com/search?q=%23102NotOutOnZB\",\n",
      "    \"promoted_content\": null,\n",
      "    \"query\": \"%23102NotOutOnZB\",\n",
      "    \"tweet_volume\": null\n",
      "   },\n",
      "   {\n",
      "    \"name\": \"#BajajAllianzLifePlankathon\",\n",
      "    \"url\": \"http://twitter.com/search?q=%23BajajAllianzLifePlankathon\",\n",
      "    \"promoted_content\": null,\n",
      "    \"query\": \"%23BajajAllianzLifePlankathon\",\n",
      "    \"tweet_volume\": null\n",
      "   },\n",
      "   {\n",
      "    \"name\": \"#MaayaBimbumTeaser\",\n",
      "    \"url\": \"http://twitter.com/search?q=%23MaayaBimbumTeaser\",\n",
      "    \"promoted_content\": null,\n",
      "    \"query\": \"%23MaayaBimbumTeaser\",\n",
      "    \"tweet_volume\": null\n",
      "   },\n",
      "   {\n",
      "    \"name\": \"#AUSvENG\",\n",
      "    \"url\": \"http://twitter.com/search?q=%23AUSvENG\",\n",
      "    \"promoted_content\": null,\n",
      "    \"query\": \"%23AUSvENG\",\n",
      "    \"tweet_volume\": null\n",
      "   },\n",
      "   {\n",
      "    \"name\": \"#NexusMCELitClub\",\n",
      "    \"url\": \"http://twitter.com/search?q=%23NexusMCELitClub\",\n",
      "    \"promoted_content\": null,\n",
      "    \"query\": \"%23NexusMCELitClub\",\n",
      "    \"tweet_volume\": null\n",
      "   },\n",
      "   {\n",
      "    \"name\": \"#SundayThoughts\",\n",
      "    \"url\": \"http://twitter.com/search?q=%23SundayThoughts\",\n",
      "    \"promoted_content\": null,\n",
      "    \"query\": \"%23SundayThoughts\",\n",
      "    \"tweet_volume\": null\n",
      "   },\n",
      "   {\n",
      "    \"name\": \"#OpeningDoors\",\n",
      "    \"url\": \"http://twitter.com/search?q=%23OpeningDoors\",\n",
      "    \"promoted_content\": null,\n",
      "    \"query\": \"%23OpeningDoors\",\n",
      "    \"tweet_volume\": null\n",
      "   },\n",
      "   {\n",
      "    \"name\": \"#\\u092e\\u0930\\u094d\\u0926\\u093e\\u0928\\u0940_\\u092d\\u0915\\u094d\\u0924_\\u0935\\u0940\\u0930\\u093e\\u0902\\u0917\\u0928\\u093e\",\n",
      "    \"url\": \"http://twitter.com/search?q=%23%E0%A4%AE%E0%A4%B0%E0%A5%8D%E0%A4%A6%E0%A4%BE%E0%A4%A8%E0%A5%80_%E0%A4%AD%E0%A4%95%E0%A5%8D%E0%A4%A4_%E0%A4%B5%E0%A5%80%E0%A4%B0%E0%A4%BE%E0%A4%82%E0%A4%97%E0%A4%A8%E0%A4%BE\",\n",
      "    \"promoted_content\": null,\n",
      "    \"query\": \"%23%E0%A4%AE%E0%A4%B0%E0%A5%8D%E0%A4%A6%E0%A4%BE%E0%A4%A8%E0%A5%80_%E0%A4%AD%E0%A4%95%E0%A5%8D%E0%A4%A4_%E0%A4%B5%E0%A5%80%E0%A4%B0%E0%A4%BE%E0%A4%82%E0%A4%97%E0%A4%A8%E0%A4%BE\",\n",
      "    \"tweet_volume\": 22101\n",
      "   },\n",
      "   {\n",
      "    \"name\": \"#Walkathon\",\n",
      "    \"url\": \"http://twitter.com/search?q=%23Walkathon\",\n",
      "    \"promoted_content\": null,\n",
      "    \"query\": \"%23Walkathon\",\n",
      "    \"tweet_volume\": null\n",
      "   },\n",
      "   {\n",
      "    \"name\": \"#AgniDevTrailer1\",\n",
      "    \"url\": \"http://twitter.com/search?q=%23AgniDevTrailer1\",\n",
      "    \"promoted_content\": null,\n",
      "    \"query\": \"%23AgniDevTrailer1\",\n",
      "    \"tweet_volume\": null\n",
      "   },\n",
      "   {\n",
      "    \"name\": \"#UddhavInAyodhya\",\n",
      "    \"url\": \"http://twitter.com/search?q=%23UddhavInAyodhya\",\n",
      "    \"promoted_content\": null,\n",
      "    \"query\": \"%23UddhavInAyodhya\",\n",
      "    \"tweet_volume\": null\n",
      "   },\n",
      "   {\n",
      "    \"name\": \"#KabirSingh\",\n",
      "    \"url\": \"http://twitter.com/search?q=%23KabirSingh\",\n",
      "    \"promoted_content\": null,\n",
      "    \"query\": \"%23KabirSingh\",\n",
      "    \"tweet_volume\": null\n",
      "   },\n",
      "   {\n",
      "    \"name\": \"#IRW2018\",\n",
      "    \"url\": \"http://twitter.com/search?q=%23IRW2018\",\n",
      "    \"promoted_content\": null,\n",
      "    \"query\": \"%23IRW2018\",\n",
      "    \"tweet_volume\": null\n",
      "   },\n",
      "   {\n",
      "    \"name\": \"#MaryKom\",\n",
      "    \"url\": \"http://twitter.com/search?q=%23MaryKom\",\n",
      "    \"promoted_content\": null,\n",
      "    \"query\": \"%23MaryKom\",\n",
      "    \"tweet_volume\": 56315\n",
      "   },\n",
      "   {\n",
      "    \"name\": \"#AlturasG4\",\n",
      "    \"url\": \"http://twitter.com/search?q=%23AlturasG4\",\n",
      "    \"promoted_content\": null,\n",
      "    \"query\": \"%23AlturasG4\",\n",
      "    \"tweet_volume\": null\n",
      "   },\n",
      "   {\n",
      "    \"name\": \"#BJPWinningMP\",\n",
      "    \"url\": \"http://twitter.com/search?q=%23BJPWinningMP\",\n",
      "    \"promoted_content\": null,\n",
      "    \"query\": \"%23BJPWinningMP\",\n",
      "    \"tweet_volume\": 45640\n",
      "   },\n",
      "   {\n",
      "    \"name\": \"#EndhiraLogathuSundariye\",\n",
      "    \"url\": \"http://twitter.com/search?q=%23EndhiraLogathuSundariye\",\n",
      "    \"promoted_content\": null,\n",
      "    \"query\": \"%23EndhiraLogathuSundariye\",\n",
      "    \"tweet_volume\": null\n",
      "   },\n",
      "   {\n",
      "    \"name\": \"#MereNaamTu\",\n",
      "    \"url\": \"http://twitter.com/search?q=%23MereNaamTu\",\n",
      "    \"promoted_content\": null,\n",
      "    \"query\": \"%23MereNaamTu\",\n",
      "    \"tweet_volume\": 28184\n",
      "   },\n",
      "   {\n",
      "    \"name\": \"#MUMKOL\",\n",
      "    \"url\": \"http://twitter.com/search?q=%23MUMKOL\",\n",
      "    \"promoted_content\": null,\n",
      "    \"query\": \"%23MUMKOL\",\n",
      "    \"tweet_volume\": null\n",
      "   }\n",
      "  ],\n",
      "  \"as_of\": \"2018-11-25T05:56:10Z\",\n",
      "  \"created_at\": \"2018-11-25T05:54:33Z\",\n",
      "  \"locations\": [\n",
      "   {\n",
      "    \"name\": \"India\",\n",
      "    \"woeid\": 23424848\n",
      "   }\n",
      "  ]\n",
      " }\n",
      "]\n"
     ]
    }
   ],
   "source": [
    "import json\n",
    "\n",
    "print((json.dumps(us_trends[:2], indent=1)))"
   ]
  },
  {
   "cell_type": "markdown",
   "metadata": {},
   "source": [
    "## Example 4. Computing the intersection of two sets of trends"
   ]
  },
  {
   "cell_type": "code",
   "execution_count": 23,
   "metadata": {},
   "outputs": [],
   "source": [
    "trends_set = {}\n",
    "trends_set['world'] = set([trend['name'] \n",
    "                        for trend in world_trends[0]['trends']])\n",
    "\n",
    "trends_set['us'] = set([trend['name'] \n",
    "                     for trend in us_trends[0]['trends']]) \n",
    "\n",
    "trends_set['san diego'] = set([trend['name'] \n",
    "                     for trend in local_trends[0]['trends']]) "
   ]
  },
  {
   "cell_type": "code",
   "execution_count": 24,
   "metadata": {},
   "outputs": [
    {
     "name": "stdout",
     "output_type": "stream",
     "text": [
      "('----------', 'world')\n",
      "#HBDHockeyLegendDilipTirkey,#مافي_الفار_طاهر,#lovaticsarebeautiful,#Run4OurSoldiers,Greedy Williams,Dwight Howard,#امطار_الشرقيه,Clemson,Kellen Mond,#MandirWahinBanayenge,#AUnMesDeNavidad,#HariGuruNasional,#BYUvsUTAH,#apostilla,Rogers,Gudiño,Notre Dame,#BakeOffBrasil,#LSUvsTAMU,#MannKiBaat50,LSU-A&M,#PodemosHablar,#وش_اجمل_كلام_سمعته,#صباح_المطر,#LiddellOrtiz3,Aggies,#BivolPascal,Liguilla,JJ Barea,#Ambareesh,#DomingoDetremuraSDV,#ThreeWordsToForeverFamSunday,Clay Helton,コミティア,#KanaaTrailer,Coach O,Ricky Jay,Jimbo,#GoIrish,#ロボコン\n",
      "('----------', 'us')\n",
      "#HBDHockeyLegendDilipTirkey,#102NotOutOnZB,#AgniDevTrailer1,MoS MEA,#BJPWinningMP,#Run4OurSoldiers,#मर्दानी_भक्त_वीरांगना,Shopian,#MandirWahinBanayenge,#MUMKOL,#EndhiraLogathuSundariye,#IRW2018,Barcelona,#MaayaBimbumTeaser,#MereNaamTu,#AUSvENG,#SundayThoughts,#Walkathon,#MannKiBaat50,CM of Tripura,#OpeningDoors,#BajajAllianzLifePlankathon,#MaryKom,#AlturasG4,#Ambareesh,#KabirSingh,#KanaaTrailer,#UddhavInAyodhya,#NexusMCELitClub\n",
      "('----------', 'san diego')\n",
      "#HBDHockeyLegendDilipTirkey,#102NotOutOnZB,#AgniDevTrailer1,MoS MEA,#BJPWinningMP,#Run4OurSoldiers,signature bridge,#मर्दानी_भक्त_वीरांगना,Shopian,#MandirWahinBanayenge,#MUMKOL,#EndhiraLogathuSundariye,Dharma Sabha,#IRW2018,Barcelona,#MaayaBimbumTeaser,#MereNaamTu,#TOTCHE,#AUSvENG,#SundayThoughts,#Walkathon,#MannKiBaat50,CM of Tripura,#OpeningDoors,#BajajAllianzLifePlankathon,#MaryKom,#AlturasG4,#Ambareesh,#KabirSingh,#RoyaltyRedefined,#KanaaTrailer,#NexusMCELitClub\n"
     ]
    }
   ],
   "source": [
    "for loc in ['world','us','san diego']:\n",
    "    print(('-'*10,loc))\n",
    "    print((','.join(trends_set[loc])))"
   ]
  },
  {
   "cell_type": "code",
   "execution_count": 25,
   "metadata": {},
   "outputs": [
    {
     "name": "stdout",
     "output_type": "stream",
     "text": [
      "('==========', 'intersection of world and us')\n",
      "{'#HBDHockeyLegendDilipTirkey', '#MannKiBaat50', '#Run4OurSoldiers', '#Ambareesh', '#KanaaTrailer', '#MandirWahinBanayenge'}\n",
      "('==========', 'intersection of us and san-diego')\n",
      "{'#HBDHockeyLegendDilipTirkey', '#AgniDevTrailer1', '#102NotOutOnZB', 'MoS MEA', '#BJPWinningMP', '#Run4OurSoldiers', '#मर्दानी_भक्त_वीरांगना', 'Shopian', '#MandirWahinBanayenge', '#MUMKOL', '#EndhiraLogathuSundariye', '#IRW2018', 'Barcelona', '#MaayaBimbumTeaser', '#MereNaamTu', '#AUSvENG', '#SundayThoughts', '#Walkathon', '#MannKiBaat50', 'CM of Tripura', '#OpeningDoors', '#BajajAllianzLifePlankathon', '#MaryKom', '#AlturasG4', '#Ambareesh', '#KabirSingh', '#KanaaTrailer', '#NexusMCELitClub'}\n"
     ]
    }
   ],
   "source": [
    "print(( '='*10,'intersection of world and us'))\n",
    "print((trends_set['world'].intersection(trends_set['us'])))\n",
    "\n",
    "print(('='*10,'intersection of us and san-diego'))\n",
    "print((trends_set['san diego'].intersection(trends_set['us'])))"
   ]
  },
  {
   "cell_type": "markdown",
   "metadata": {},
   "source": [
    "## Example 5. Collecting search results"
   ]
  },
  {
   "cell_type": "markdown",
   "metadata": {},
   "source": [
    "Set the variable `q` to a trending topic, \n",
    "or anything else for that matter. The example query below\n",
    "was a trending topic when this content was being developed\n",
    "and is used throughout the remainder of this chapter"
   ]
  },
  {
   "cell_type": "code",
   "execution_count": 26,
   "metadata": {},
   "outputs": [],
   "source": [
    "q = '#MannKiBaat50' \n",
    "\n",
    "number = 100\n",
    "\n",
    "# See https://dev.twitter.com/docs/api/1.1/get/search/tweets\n",
    "\n",
    "search_results = twitter_api.search.tweets(q=q, count=number)\n",
    "\n",
    "statuses = search_results['statuses']"
   ]
  },
  {
   "cell_type": "code",
   "execution_count": 30,
   "metadata": {},
   "outputs": [
    {
     "data": {
      "text/plain": [
       "87"
      ]
     },
     "execution_count": 30,
     "metadata": {},
     "output_type": "execute_result"
    }
   ],
   "source": [
    "len(statuses)\n",
    "#print(statuses)"
   ]
  },
  {
   "cell_type": "markdown",
   "metadata": {},
   "source": [
    "Twitter often returns duplicate results, we can filter them out checking for duplicate texts:"
   ]
  },
  {
   "cell_type": "code",
   "execution_count": 28,
   "metadata": {},
   "outputs": [],
   "source": [
    "all_text = []\n",
    "filtered_statuses = []\n",
    "for s in statuses:\n",
    "    if not s[\"text\"] in all_text:\n",
    "        filtered_statuses.append(s)\n",
    "        all_text.append(s[\"text\"])\n",
    "statuses = filtered_statuses     "
   ]
  },
  {
   "cell_type": "code",
   "execution_count": 29,
   "metadata": {},
   "outputs": [
    {
     "data": {
      "text/plain": [
       "87"
      ]
     },
     "execution_count": 29,
     "metadata": {},
     "output_type": "execute_result"
    }
   ],
   "source": [
    "len(statuses)"
   ]
  },
  {
   "cell_type": "code",
   "execution_count": 31,
   "metadata": {},
   "outputs": [
    {
     "data": {
      "text/plain": [
       "['कभी-कभी ‘मन की बात’ का मजाक भी उड़ता है लेकिन मेरे मन में हमेशा ही 130 करोड़ देशवासी बसे रहते हैं। उनका मन मेरा मन… https://t.co/jjwKIrzQpB',\n",
       " 'RT @iPankajShukla: Our Constitution talks about both rights and duties. #MannKiBaat50 https://t.co/g35u1B9gxg',\n",
       " 'RT @narendramodi: The 50th episode of ‘Mann Ki Baat’ begins soon. Hear it on all channels of Doordarshan and @AkashvaniAIR. The episode can…',\n",
       " 'RT @mlapanchal: भारत का मूल-प्राण राजनीति नहीं है, भारत का मूल-प्राण राजशक्ति भी नहीं है | \\n\\nभारत का मूल-प्राण समाजनीति है और समाज-शक्ति है…',\n",
       " 'RT @iManishPatelBJP: Recently, All India Radio got a survey done on ‘Mann Ki Baat’. I came across some feedback that is very interesting. 7…',\n",
       " 'RT @narendramodi: The 50th episode of ‘Mann Ki Baat’ begins soon. Hear it on all channels of Doordarshan and @AkashvaniAIR. The episode can…',\n",
       " 'RT @Ghulam_Banker: मन की बात भी वही कर सकता है जिसकी आंख में दूसरो के आँसू देखकर आंसू आते हों.... मगर यहां 10 लाख बैंकर्स हर रोज रो रहा है…',\n",
       " 'भारत जैसे देश के उज्ज्वल भविष्य के लिए जन-सामान्य की प्रतिभाएं पुरुषार्थ को उचित स्थान मिले, यह हम सबका एक सामूहिक… https://t.co/cn72f3BdPb',\n",
       " 'RT @mansukhmandviya: Youths of India do multiple tasks at a time, just because they are good at multi tasking. Whether it be social entrepr…',\n",
       " 'RT @mlapanchal: जब मैं प्रधानमंत्री बना तो सबसे ताकतवर माध्यम की तरफ़ मेरा ध्यान जाना बहुत स्वाभाविक था: प्रधानमंत्री श्री @narendramodi जी…',\n",
       " 'RT @PMOIndia: मोदी आएगा और चला जाएगा, लेकिन यह देश अटल रहेगा, हमारी संस्कृति अमर रहेगी | 130 करोड़ देशवासियों की छोटी-छोटी यह कहानियाँ हमे…',\n",
       " 'RT @iPankajShukla: PM Shri @narendramodi Ji appreciates the youth, says they can drive positive change in the country. #MannKiBaat #MannKiB…',\n",
       " '#MannKiBaat\\n#MannKiBaat50 https://t.co/GGH3IOcNWy',\n",
       " 'RT @iShwetaKatiyar: जनता को तो अभी तक अपने स्वार्थ की चिंता है\\n\\nइसलिए तो भृष्टाचारी नेता राजनीति में अब तक जिंदा है...\\n\\n#MannKiBaat50',\n",
       " 'RT @mlapanchal: PM @narendramodi Ji appreciates the media and all people who help during Mann Ki Baat. #MannKiBaat50 https://t.co/rsxnh8ZkvP',\n",
       " 'RT @BJP4Odisha: ‘मन की बात’ सरकारी बात नहीं है - यह समाज की बात है: पीएम मोदी #MannKiBaat50 https://t.co/IfgRy7nxN2',\n",
       " 'RT @BJP4India: संविधान सभा के बारे में बात करते हुए बाबा साहेब का योगदान कभी भुलाया नहीं जा सकता है : पीएम मोदी #MannKiBaat50 https://t.co/…',\n",
       " 'RT @PMOIndia: मोदी आएगा और चला जाएगा, लेकिन यह देश अटल रहेगा, हमारी संस्कृति अमर रहेगी | 130 करोड़ देशवासियों की छोटी-छोटी यह कहानियाँ हमे…',\n",
       " 'RT @iManishPatelBJP: Most people believe that greatest contribution of ‘#MannKiBaat’ has been enhancement of feeling of positivity in our s…',\n",
       " 'RT @MrsGandhi: PM @narendramodi’s #MannKiBaat marks its 50th milestone today and the survey shows that it has generated a huge amount of po…',\n",
       " 'RT @mansukhmandviya: I am one among you, just like you and amidst you. You people have made me great and I am still one of your family memb…',\n",
       " 'RT @PMOIndia: Understanding the joys and aspirations of every Indian. #MannKiBaat50 https://t.co/wFYe5dKAAa',\n",
       " '@obedshaik @ndtv @narendramodi Only shameless &amp; arrogant can do this, the one who has heart as tough as rock, that… https://t.co/8DwKVzmNak',\n",
       " 'RT @shekharchahal: #Ayodhya Karti Hai Ahwan That Se Kar #RamMandir Nirman🚩🚩  #MannKiBaat50 #MandirWahinBanayenge https://t.co/PyUQeDDP84',\n",
       " 'This is the great achievement of @narendramodi ji #MannKiBaat50',\n",
       " 'RT @PMOIndia: मोदी आएगा और चला जाएगा, लेकिन यह देश अटल रहेगा, हमारी संस्कृति अमर रहेगी | 130 करोड़ देशवासियों की छोटी-छोटी यह कहानियाँ हमे…',\n",
       " 'PM Shri @narendramodi Ji appreciates the media and all people who help during #MannKiBaat. #MannKiBaat50 https://t.co/nvMxvDPZLT',\n",
       " \"RT @PiyushGoyal: Tune into PM @NarendraModi's #MannKiBaat50\\nWatch Live https://t.co/WVEUfl0UHp\",\n",
       " 'अगर हम युवाओं के विचारों को धरातल पर उतार दें और उन्हें अभिव्यक्त करने के लिए खुला वातावरण दें तो वे देश में सकारा… https://t.co/jgIvywwWtC',\n",
       " 'RT @narendramodi: We complete 50 episodes of sharing happiness. Tune in to today’s #MannKiBaat50. https://t.co/qXnj0K4jl5',\n",
       " 'RT @iPankajShukla: PM Shri @narendramodi pays tributes to the makers of the Constitution. #MannKiBaat50 https://t.co/1suegHtXYU',\n",
       " 'RT @htTweets: #MannKiBaat | Tomorrow, November 26 is Constitution Day. An extensive and descriptive constitution was done by the great men.…',\n",
       " 'RT @Youth4NewIndia: .@vinirish asks PM #Modi how he manages to inspire and convince the #youth on host of social issues. #MannKiBaat50 #Man…',\n",
       " 'RT @BJP4Gujarat: हमें लगता है आज के युवा बहुत महत्वाकांशी हैं और बहुत बड़ी-बड़ी चीजें सोचते हैं। अच्छा है, बड़े सपने देखें और बड़ी सफलताओं…',\n",
       " 'RT @BJP4Gujarat: अगर हम युवाओं के विचारों को धरातल पर उतार दें और उन्हें अभिव्यक्त करने के लिए खुला वातावरण दें तो वे देश में सकारात्मक बद…',\n",
       " 'RT @BJP4AmdavadCity: जब ‘मन की बात’ शुरू किया था तभी मैंने तय किया था कि न इसमें politics हो, न इसमें सरकार की वाह-वाही हो, न इसमें कहीं मो…',\n",
       " 'RT @BJP4Gujarat: PM @narendramodi appreciates the media and all people who help during Mann Ki Baat. #MannKiBaat50 https://t.co/2sIKxSnOZk',\n",
       " \"RT @PMOIndia: PM @narendramodi is asked, how much do you prepare before every 'Mann Ki Baat' - here is what he is saying. #MannKiBaat50 htt…\",\n",
       " 'Voting for BJP means making your future unsafe.\\n#MannKiBaat50 \\n#MannKiBaat',\n",
       " 'RT @jaiprakashshah2: Watch : LIVE : 50th episode of Mann Ki Baat. #MannKiBaat50 https://t.co/DNg8ga90c6',\n",
       " \"RT @SBJadejaBJP: PM @narendramodi is asked, how much do you prepare before every 'Mann Ki Baat' - here is what he is saying. #MannKiBaat50…\",\n",
       " 'RT @htTweets: #MannKiBaat | Tomorrow, November 26 is Constitution Day. An extensive and descriptive constitution was done by the great men.…',\n",
       " 'RT @narendramodi: We complete 50 episodes of sharing happiness. Tune in to today’s #MannKiBaat50. https://t.co/qXnj0K4jl5',\n",
       " 'RT @iManishPatelBJP: मई 2014 में जब मैंने एक ‘प्रधान-सेवक’ के रूप में कार्यभार संभाला तो मेरे मन में इच्छा थी कि देश की एकता, भव्य इतिहास,…',\n",
       " 'RT @PMOIndia: Our youth is all set to scale new heights of glory. #MannKiBaat50 https://t.co/FdDfKwYvHP',\n",
       " 'RT @BJP4Bihar: अगर हम दूसरों के अधिकार का सम्मान करेंगे तो हमारे अधिकारों की रक्षा अपने आप हो जायेगी और इसी तरह अगर हम संविधान में दिए अपने…',\n",
       " '50वीं बार मन की बात / @narendramodi ने कहा- इस कार्यक्रम में आवाज मेरी, भावना देश के लोगों की\\n\\n#MannKiBaat… https://t.co/l055Os9OBw',\n",
       " 'RT @AnilaSingh_BJP: Please listen #MannKiBaat50 https://t.co/66CPnTj97p',\n",
       " 'RT @BJP4Gujarat: PM Shri @narendramodi pays tributes to the makers of the Constitution. #MannKiBaat50 https://t.co/fMPOWi5I3L',\n",
       " \"RT @BJP4MP: मैं मीडिया के अपने उन साथियों को हृदयपूर्वक धन्यवाद देना चाहता हूँ जो अपने चैनल्स पर 'मन की बात' का हर बार नियमित रूप से प्रसार…\",\n",
       " 'RT @SBJadejaBJP: When it comes to youngsters- accept rather than expect. #MannKiBaat50 https://t.co/keTcsPLzJt',\n",
       " 'RT @VinodChavdaBJP: भारत का मूल-प्राण राजनीति नहीं है, भारत का मूल-प्राण राजशक्ति भी नहीं है | \\n\\nभारत का मूल-प्राण समाजनीति है और समाज-शक्…',\n",
       " 'RT @BJP4Gujarat: संविधान सभा के बारे में बात करते हुए बाबा साहेब का योगदान कभी भुलाया नहीं जा सकता है : पीएम मोदी #MannKiBaat50 https://t.c…',\n",
       " \"RT @BJP4India: We began the 'Mann Ki Baat' journey on 3rd October 2014 and today we have the Golden Jubilee episode: PM @narendramodi #Mann…\",\n",
       " 'RT @sanghaviharsh: #GuruNanakDev Ji’s 550th Prakash Parv will be celebrated in a similar manner in all the countries of the world as well:…',\n",
       " 'RT @SBJadejaBJP: भारत का मूल-प्राण राजनीति नहीं है, भारत का मूल-प्राण राजशक्ति भी नहीं है। \\n\\nभारत का मूल-प्राण समाजनीति है और समाज-शक्ति है…',\n",
       " 'RT @DDNational: My dear countrymen, two days back on 23rd November, we all celebrated Shri #GuruNana Dev Jayanti and next year in 2019 we s…',\n",
       " 'RT @iManishPatelBJP: हिमाचल की पहाड़ियों में शाम को ठण्ड तो हो ही जाती है, तो रास्ते में एक ढाबे पर चाय के लिये रुका और जब मैं चाय के लिए o…',\n",
       " 'RT @BJP4Gujarat: मोदी आएगा और चला जाएगा, लेकिन यह देश अटल रहेगा, हमारी संस्कृति अमर रहेगी | 130 करोड़ देशवासियों की छोटी-छोटी यह कहानियाँ ह…',\n",
       " 'RT @BJP4Delhi: मोदी आएगा और चला जाएगा, लेकिन यह देश अटल रहेगा, हमारी संस्कृति अमर रहेगी | 130 करोड़ देशवासियों की छोटी-छोटी यह कहानियाँ हमे…',\n",
       " 'RT @MenonArvindBJP: मेरा मानना है कि युवाओं के पास बर्बाद करने के लिए समय नहीं है | यही वो चीज़ है जो आज के नौजवानों को अधिक इनोवेटिव बनने…',\n",
       " 'Our Constitution talks about both rights and duties. #MannKiBaat50 https://t.co/TEd0Frd4Iw',\n",
       " \"RT @PMOIndia: This is a 'Mann Ki Baat' of 130 crore Indians. #MannKiBaat50 https://t.co/KS9uV579ip\",\n",
       " 'RT @BJP4India: LIVE : 50th episode of Mann Ki Baat. #MannKiBaat50 https://t.co/OPMyEaHfWs',\n",
       " 'RT @SwamiGeetika: “Keep your Ali. We will have Bajrang Bali”\\nYogi Adityanath’s remark reflects the cureent mood of the nation, as all eyes…',\n",
       " 'RT @mansukhmandviya: Youths of India do multiple tasks at a time, just because they are good at multi tasking. Whether it be social entrepr…',\n",
       " 'RT @SBJadejaBJP: It is a good thing our youth are asking questions. #MannKiBaat50 https://t.co/8wVGKDq3M7',\n",
       " 'RT @narendramodi: We complete 50 episodes of sharing happiness. Tune in to today’s #MannKiBaat50. https://t.co/qXnj0K4jl5',\n",
       " \"RT @BjpforChandauli: Gratitude to the various people who help during 'Mann Ki Baat.' #MannKiBaat50 https://t.co/AtPAsSfWS6\",\n",
       " 'RT @narendramodi: The 50th episode of ‘Mann Ki Baat’ begins soon. Hear it on all channels of Doordarshan and @AkashvaniAIR. The episode can…',\n",
       " 'RT @vinirish: #MannKiBaat50 gratified that a normal citizen like me can have a questioned answered by my PM @narendramodi ji https://t.co/f…',\n",
       " 'RT @iManishPatelBJP: PM shree @narendramodi ji said that the conceptualization of #MannKiBaat had its roots in sharing with people across a…',\n",
       " 'RT @ombirlakota: #MannKiBaat को पहली बार 3 अक्टूबर 2014 को प्रधानमंत्री श्री @narendramodi जी ने आमजन से संवाद का माध्यम बनाया था आज 50वीं…',\n",
       " 'RT @SBJadejaBJP: Today’s youths have this special quality that they won’t do anything which they do not believe themselves and whenever the…',\n",
       " 'RT @narendramodi: We complete 50 episodes of sharing happiness. Tune in to today’s #MannKiBaat50. https://t.co/qXnj0K4jl5',\n",
       " 'RT @Bilash24: #MannKiBaat50 \\nDesh ki Baat https://t.co/eaO9fMSUdU',\n",
       " 'RT @PMOIndia: मोदी आएगा और चला जाएगा, लेकिन यह देश अटल रहेगा, हमारी संस्कृति अमर रहेगी | 130 करोड़ देशवासियों की छोटी-छोटी यह कहानियाँ हमे…',\n",
       " 'RT @narendramodi: We complete 50 episodes of sharing happiness. Tune in to today’s #MannKiBaat50. https://t.co/qXnj0K4jl5',\n",
       " 'RT @narendramodi: The 50th episode of ‘Mann Ki Baat’ begins soon. Hear it on all channels of Doordarshan and @AkashvaniAIR. The episode can…',\n",
       " 'जब ‘मन की बात’ शुरू किया था तभी मैंने तय किया था कि न इसमें politics हो, न इसमें सरकार की वाह-वाही हो, न इसमें कहीं… https://t.co/3WAcfHrPB2',\n",
       " 'RT @BJP4India: PM Shri @narendramodi pays tributes to the makers of the Constitution. #MannKiBaat50 https://t.co/0uXVRD50kH',\n",
       " \"RT @Ra_THORe: Today's #MannKiBaat is a special one: the iconic program completes 50 episodes today.\\n\\nLet's take a look back at what PM @nar…\",\n",
       " 'RT @amitmalviya: Prime Minister Narendra Modi has transformed social discourse using this interactive platform... #MannKiBaat50 https://t.c…',\n",
       " \"RT @PMOIndia: We began the 'Mann Ki Baat' journey on 3rd October 2014 and today we have the Golden Jubilee episode: PM @narendramodi #MannK…\",\n",
       " 'RT @BJP4India: भारत का मूल-प्राण राजनीति नहीं है, भारत का मूल-प्राण राजशक्ति भी नहीं है। \\n\\nभारत का मूल-प्राण समाजनीति है और समाज-शक्ति है।…',\n",
       " 'RT @iManishPatelBJP: 50 हफ्ते से चल रहा मन की बात देशभर में लोकप्रिय, 70% लोग सुनते हैं, 91% को मिलती हैं पॉजिटिविटी... #MannKiBaat50 https…',\n",
       " 'RT @SBJadejaBJP: Youngsters from India are excelling in various fields. #MannKiBaat50 https://t.co/QFV4XTLo1x',\n",
       " 'प्रत्येक क्षणी माझे देशवासी, माझ्या मनातच घर करून राहिलेले असतात आणि त्यामुळेच ज्यावेळी मी एखादं पत्र वाचतो, त्यावे… https://t.co/OPG8W9VOHg',\n",
       " \"PM Modi's Mann Ki Baat, November 2018: https://t.co/lsuU8GFUX3\\n#MannKiBaat50\",\n",
       " 'जब मई 2014 में एक ‘प्रधान-सेवक’ के रूप में कार्यभार संभाला तो मेरे मन में इच्छा थी कि देश की एकता, भव्य इतिहास, शौ… https://t.co/aV6s18JLQ6',\n",
       " 'शर्त लगा लो अगर राहुल गांधी पुदीने और धनिये के पत्ते में फर्क बता दें \\nतो \\nमेरा वोट कांग्रेस को😁😁😁\\n#MannKiBaat50… https://t.co/nf9ccaqxiV',\n",
       " 'RT @narendramodi: We complete 50 episodes of sharing happiness. Tune in to today’s #MannKiBaat50. https://t.co/qXnj0K4jl5',\n",
       " 'अगर हम युवाओं के विचारों को धरातल पर उतार दें और उन्हें अभिव्यक्त करने के लिए खुला वातावरण दें तो वे देश में सकारा… https://t.co/vdKA0dU3Ph',\n",
       " 'Tributes to Dr. Babasaheb Ambedkar. #MannKiBaat50 https://t.co/YVJxNBwNr0',\n",
       " 'RT @SBJadejaBJP: PM @narendramodi appreciates the media and all people who help during Mann Ki Baat. #MannKiBaat50 https://t.co/9IyDWMiq4g',\n",
       " 'RT @ArunSinghbjp: हमें लगता है आज के युवा बहुत महत्वाकांशी हैं और बहुत बड़ी-बड़ी चीजें सोचते हैं। अच्छा है, बड़े सपने देखें और बड़ी सफलताओं…',\n",
       " '#MannKiBaat | Tomorrow, November 26 is Constitution Day. An extensive and descriptive constitution was done by the… https://t.co/dCbmC1XVOG',\n",
       " '@PMOIndia @narendramodi ji desh aage tab badta he @Supertechltd jese chor jail me ho aur middle class aadmi ko uska… https://t.co/llPWjaalCw',\n",
       " 'RT @BjpforChandauli: Remembering the rich thoughts of Dr. Ambedkar. #MannKiBaat50 https://t.co/7rHEcB46sr',\n",
       " 'भारत का मूल-प्राण राजनीति नेई ऐ। भारत का मूल-प्राण राजशक्ति बी नेई ऐ। भारत का मूल-प्राण समाजनीति ऐ ते समाज-शक्ति है… https://t.co/JZwOiCO675']"
      ]
     },
     "execution_count": 31,
     "metadata": {},
     "output_type": "execute_result"
    }
   ],
   "source": [
    "[s['text'] for s in search_results['statuses']]"
   ]
  },
  {
   "cell_type": "code",
   "execution_count": 32,
   "metadata": {},
   "outputs": [
    {
     "name": "stdout",
     "output_type": "stream",
     "text": [
      "{\n",
      " \"created_at\": \"Sun Nov 25 06:12:33 +0000 2018\",\n",
      " \"id\": 1066575348522000384,\n",
      " \"id_str\": \"1066575348522000384\",\n",
      " \"text\": \"\\u0915\\u092d\\u0940-\\u0915\\u092d\\u0940 \\u2018\\u092e\\u0928 \\u0915\\u0940 \\u092c\\u093e\\u0924\\u2019 \\u0915\\u093e \\u092e\\u091c\\u093e\\u0915 \\u092d\\u0940 \\u0909\\u0921\\u093c\\u0924\\u093e \\u0939\\u0948 \\u0932\\u0947\\u0915\\u093f\\u0928 \\u092e\\u0947\\u0930\\u0947 \\u092e\\u0928 \\u092e\\u0947\\u0902 \\u0939\\u092e\\u0947\\u0936\\u093e \\u0939\\u0940 130 \\u0915\\u0930\\u094b\\u0921\\u093c \\u0926\\u0947\\u0936\\u0935\\u093e\\u0938\\u0940 \\u092c\\u0938\\u0947 \\u0930\\u0939\\u0924\\u0947 \\u0939\\u0948\\u0902\\u0964 \\u0909\\u0928\\u0915\\u093e \\u092e\\u0928 \\u092e\\u0947\\u0930\\u093e \\u092e\\u0928\\u2026 https://t.co/jjwKIrzQpB\",\n",
      " \"truncated\": true,\n",
      " \"entities\": {\n",
      "  \"hashtags\": [],\n",
      "  \"symbols\": [],\n",
      "  \"user_mentions\": [],\n",
      "  \"urls\": [\n",
      "   {\n",
      "    \"url\": \"https://t.co/jjwKIrzQpB\",\n",
      "    \"expanded_url\": \"https://twitter.com/i/web/status/1066575348522000384\",\n",
      "    \"display_url\": \"twitter.com/i/web/status/1\\u2026\",\n",
      "    \"indices\": [\n",
      "     116,\n",
      "     139\n",
      "    ]\n",
      "   }\n",
      "  ]\n",
      " },\n",
      " \"metadata\": {\n",
      "  \"iso_language_code\": \"hi\",\n",
      "  \"result_type\": \"recent\"\n",
      " },\n",
      " \"source\": \"<a href=\\\"http://twitter.com/download/android\\\" rel=\\\"nofollow\\\">Twitter for Android</a>\",\n",
      " \"in_reply_to_status_id\": null,\n",
      " \"in_reply_to_status_id_str\": null,\n",
      " \"in_reply_to_user_id\": null,\n",
      " \"in_reply_to_user_id_str\": null,\n",
      " \"in_reply_to_screen_name\": null,\n",
      " \"user\": {\n",
      "  \"id\": 3104738804,\n",
      "  \"id_str\": \"3104738804\",\n",
      "  \"name\": \"Dhaval Acharya \\ud83c\\uddee\\ud83c\\uddf3\",\n",
      "  \"screen_name\": \"Dhaval_BJP\",\n",
      "  \"location\": \"Ahmedabad\",\n",
      "  \"description\": \"\\u25aa\\ufe0fNationalist\\u25aa\\ufe0fProud To Be An INDIAN \\ud83c\\uddee\\ud83c\\uddf3\\u25aa\\ufe0f#IndiaFirst\\u25aa\\ufe0fFollowed by @BJP4India\\u2018s Firebrand President Shri @Amitshah Ji. \\u25aa\\ufe0fConvener, BJYM Gujarat\\u25aa\\ufe0f\",\n",
      "  \"url\": \"https://t.co/PANXFlkJNX\",\n",
      "  \"entities\": {\n",
      "   \"url\": {\n",
      "    \"urls\": [\n",
      "     {\n",
      "      \"url\": \"https://t.co/PANXFlkJNX\",\n",
      "      \"expanded_url\": \"https://www.facebook.com/dhavalacharyabjp/\",\n",
      "      \"display_url\": \"facebook.com/dhavalacharyab\\u2026\",\n",
      "      \"indices\": [\n",
      "       0,\n",
      "       23\n",
      "      ]\n",
      "     }\n",
      "    ]\n",
      "   },\n",
      "   \"description\": {\n",
      "    \"urls\": []\n",
      "   }\n",
      "  },\n",
      "  \"protected\": false,\n",
      "  \"followers_count\": 10582,\n",
      "  \"friends_count\": 1635,\n",
      "  \"listed_count\": 22,\n",
      "  \"created_at\": \"Mon Mar 23 11:39:39 +0000 2015\",\n",
      "  \"favourites_count\": 34176,\n",
      "  \"utc_offset\": null,\n",
      "  \"time_zone\": null,\n",
      "  \"geo_enabled\": true,\n",
      "  \"verified\": false,\n",
      "  \"statuses_count\": 27722,\n",
      "  \"lang\": \"en\",\n",
      "  \"contributors_enabled\": false,\n",
      "  \"is_translator\": false,\n",
      "  \"is_translation_enabled\": false,\n",
      "  \"profile_background_color\": \"000000\",\n",
      "  \"profile_background_image_url\": \"http://abs.twimg.com/images/themes/theme1/bg.png\",\n",
      "  \"profile_background_image_url_https\": \"https://abs.twimg.com/images/themes/theme1/bg.png\",\n",
      "  \"profile_background_tile\": false,\n",
      "  \"profile_image_url\": \"http://pbs.twimg.com/profile_images/1046244954958438401/TtCFIv4O_normal.jpg\",\n",
      "  \"profile_image_url_https\": \"https://pbs.twimg.com/profile_images/1046244954958438401/TtCFIv4O_normal.jpg\",\n",
      "  \"profile_banner_url\": \"https://pbs.twimg.com/profile_banners/3104738804/1537733196\",\n",
      "  \"profile_link_color\": \"3B94D9\",\n",
      "  \"profile_sidebar_border_color\": \"000000\",\n",
      "  \"profile_sidebar_fill_color\": \"000000\",\n",
      "  \"profile_text_color\": \"000000\",\n",
      "  \"profile_use_background_image\": false,\n",
      "  \"has_extended_profile\": true,\n",
      "  \"default_profile\": false,\n",
      "  \"default_profile_image\": false,\n",
      "  \"following\": false,\n",
      "  \"follow_request_sent\": false,\n",
      "  \"notifications\": false,\n",
      "  \"translator_type\": \"none\"\n",
      " },\n",
      " \"geo\": null,\n",
      " \"coordinates\": null,\n",
      " \"place\": {\n",
      "  \"id\": \"49f78af676960396\",\n",
      "  \"url\": \"https://api.twitter.com/1.1/geo/id/49f78af676960396.json\",\n",
      "  \"place_type\": \"city\",\n",
      "  \"name\": \"Gandhidham\",\n",
      "  \"full_name\": \"Gandhidham, India\",\n",
      "  \"country_code\": \"IN\",\n",
      "  \"country\": \"India\",\n",
      "  \"contained_within\": [],\n",
      "  \"bounding_box\": {\n",
      "   \"type\": \"Polygon\",\n",
      "   \"coordinates\": [\n",
      "    [\n",
      "     [\n",
      "      69.788567,\n",
      "      22.879071\n",
      "     ],\n",
      "     [\n",
      "      70.251007,\n",
      "      22.879071\n",
      "     ],\n",
      "     [\n",
      "      70.251007,\n",
      "      23.404713\n",
      "     ],\n",
      "     [\n",
      "      69.788567,\n",
      "      23.404713\n",
      "     ]\n",
      "    ]\n",
      "   ]\n",
      "  },\n",
      "  \"attributes\": {}\n",
      " },\n",
      " \"contributors\": null,\n",
      " \"is_quote_status\": false,\n",
      " \"retweet_count\": 0,\n",
      " \"favorite_count\": 0,\n",
      " \"favorited\": false,\n",
      " \"retweeted\": false,\n",
      " \"lang\": \"hi\"\n",
      "}\n"
     ]
    }
   ],
   "source": [
    "# Show one sample search result by slicing the list...\n",
    "print(json.dumps(statuses[0], indent=1))"
   ]
  },
  {
   "cell_type": "code",
   "execution_count": 33,
   "metadata": {},
   "outputs": [
    {
     "name": "stdout",
     "output_type": "stream",
     "text": [
      "0\n",
      "False\n"
     ]
    }
   ],
   "source": [
    "# The result of the list comprehension is a list with only one element that\n",
    "# can be accessed by its index and set to the variable t\n",
    "t = statuses[0]\n",
    "#[ status for status in statuses \n",
    "#          if status['id'] == 316948241264549888 ][0]\n",
    "\n",
    "# Explore the variable t to get familiarized with the data structure...\n",
    "\n",
    "print(t['retweet_count'])\n",
    "print(t['retweeted'])\n"
   ]
  },
  {
   "cell_type": "markdown",
   "metadata": {},
   "source": [
    "## Example 6. Extracting text, screen names, and hashtags from tweets"
   ]
  },
  {
   "cell_type": "code",
   "execution_count": 34,
   "metadata": {},
   "outputs": [],
   "source": [
    "status_texts = [ status['text'] \n",
    "                 for status in statuses ]\n",
    "\n",
    "screen_names = [ user_mention['screen_name'] \n",
    "                 for status in statuses\n",
    "                     for user_mention in status['entities']['user_mentions'] ]\n",
    "\n",
    "hashtags = [ hashtag['text'] \n",
    "             for status in statuses\n",
    "                 for hashtag in status['entities']['hashtags'] ]\n",
    "\n",
    "# Compute a collection of all words from all tweets\n",
    "words = [ w \n",
    "          for t in status_texts \n",
    "              for w in t.split() ]"
   ]
  },
  {
   "cell_type": "code",
   "execution_count": 35,
   "metadata": {},
   "outputs": [
    {
     "name": "stdout",
     "output_type": "stream",
     "text": [
      "[\n",
      " \"\\u0915\\u092d\\u0940-\\u0915\\u092d\\u0940 \\u2018\\u092e\\u0928 \\u0915\\u0940 \\u092c\\u093e\\u0924\\u2019 \\u0915\\u093e \\u092e\\u091c\\u093e\\u0915 \\u092d\\u0940 \\u0909\\u0921\\u093c\\u0924\\u093e \\u0939\\u0948 \\u0932\\u0947\\u0915\\u093f\\u0928 \\u092e\\u0947\\u0930\\u0947 \\u092e\\u0928 \\u092e\\u0947\\u0902 \\u0939\\u092e\\u0947\\u0936\\u093e \\u0939\\u0940 130 \\u0915\\u0930\\u094b\\u0921\\u093c \\u0926\\u0947\\u0936\\u0935\\u093e\\u0938\\u0940 \\u092c\\u0938\\u0947 \\u0930\\u0939\\u0924\\u0947 \\u0939\\u0948\\u0902\\u0964 \\u0909\\u0928\\u0915\\u093e \\u092e\\u0928 \\u092e\\u0947\\u0930\\u093e \\u092e\\u0928\\u2026 https://t.co/jjwKIrzQpB\",\n",
      " \"RT @iPankajShukla: Our Constitution talks about both rights and duties. #MannKiBaat50 https://t.co/g35u1B9gxg\",\n",
      " \"RT @narendramodi: The 50th episode of \\u2018Mann Ki Baat\\u2019 begins soon. Hear it on all channels of Doordarshan and @AkashvaniAIR. The episode can\\u2026\",\n",
      " \"RT @mlapanchal: \\u092d\\u093e\\u0930\\u0924 \\u0915\\u093e \\u092e\\u0942\\u0932-\\u092a\\u094d\\u0930\\u093e\\u0923 \\u0930\\u093e\\u091c\\u0928\\u0940\\u0924\\u093f \\u0928\\u0939\\u0940\\u0902 \\u0939\\u0948, \\u092d\\u093e\\u0930\\u0924 \\u0915\\u093e \\u092e\\u0942\\u0932-\\u092a\\u094d\\u0930\\u093e\\u0923 \\u0930\\u093e\\u091c\\u0936\\u0915\\u094d\\u0924\\u093f \\u092d\\u0940 \\u0928\\u0939\\u0940\\u0902 \\u0939\\u0948 | \\n\\n\\u092d\\u093e\\u0930\\u0924 \\u0915\\u093e \\u092e\\u0942\\u0932-\\u092a\\u094d\\u0930\\u093e\\u0923 \\u0938\\u092e\\u093e\\u091c\\u0928\\u0940\\u0924\\u093f \\u0939\\u0948 \\u0914\\u0930 \\u0938\\u092e\\u093e\\u091c-\\u0936\\u0915\\u094d\\u0924\\u093f \\u0939\\u0948\\u2026\",\n",
      " \"RT @iManishPatelBJP: Recently, All India Radio got a survey done on \\u2018Mann Ki Baat\\u2019. I came across some feedback that is very interesting. 7\\u2026\"\n",
      "]\n",
      "[\n",
      " \"iPankajShukla\",\n",
      " \"narendramodi\",\n",
      " \"AkashvaniAIR\",\n",
      " \"mlapanchal\",\n",
      " \"iManishPatelBJP\"\n",
      "]\n",
      "[\n",
      " \"MannKiBaat50\",\n",
      " \"MannKiBaat\",\n",
      " \"MannKiBaat\",\n",
      " \"MannKiBaat50\",\n",
      " \"MannKiBaat50\"\n",
      "]\n",
      "[\n",
      " \"\\u0915\\u092d\\u0940-\\u0915\\u092d\\u0940\",\n",
      " \"\\u2018\\u092e\\u0928\",\n",
      " \"\\u0915\\u0940\",\n",
      " \"\\u092c\\u093e\\u0924\\u2019\",\n",
      " \"\\u0915\\u093e\"\n",
      "]\n"
     ]
    }
   ],
   "source": [
    "# Explore the first 5 items for each...\n",
    "\n",
    "print(json.dumps(status_texts[0:5], indent=1))\n",
    "print(json.dumps(screen_names[0:5], indent=1)) \n",
    "print(json.dumps(hashtags[0:5], indent=1))\n",
    "print(json.dumps(words[0:5], indent=1))"
   ]
  },
  {
   "cell_type": "markdown",
   "metadata": {},
   "source": [
    "## Example 7. Creating a basic frequency distribution from the words in tweets"
   ]
  },
  {
   "cell_type": "code",
   "execution_count": 36,
   "metadata": {},
   "outputs": [
    {
     "name": "stdout",
     "output_type": "stream",
     "text": [
      "[('RT', 67), ('#MannKiBaat50', 37), ('the', 30), ('के', 24), ('of', 23), ('की', 22), ('का', 21), ('में', 20), ('@narendramodi', 20), ('PM', 19)]\n",
      "\n",
      "[('narendramodi', 24), ('PMOIndia', 7), ('SBJadejaBJP', 7), ('iManishPatelBJP', 6), ('BJP4Gujarat', 6), ('BJP4India', 5), ('iPankajShukla', 3), ('mlapanchal', 3), ('mansukhmandviya', 2), ('vinirish', 2)]\n",
      "\n",
      "[('MannKiBaat50', 40), ('MannKiBaat', 12), ('Ayodhya', 1), ('RamMandir', 1), ('MandirWahinBanayenge', 1), ('Modi', 1), ('youth', 1), ('GuruNanakDev', 1), ('GuruNana', 1)]\n",
      "\n"
     ]
    }
   ],
   "source": [
    "from collections import Counter\n",
    "\n",
    "for item in [words, screen_names, hashtags]:\n",
    "    c = Counter(item)\n",
    "    print(c.most_common()[:10]) # top 10\n",
    "    print()"
   ]
  },
  {
   "cell_type": "markdown",
   "metadata": {},
   "source": [
    "## Example 8. Create a prettyprint function to display tuples in a nice tabular format"
   ]
  },
  {
   "cell_type": "code",
   "execution_count": 37,
   "metadata": {},
   "outputs": [],
   "source": [
    "def prettyprint_counts(label, list_of_tuples):\n",
    "    print(\"\\n{:^20} | {:^6}\".format(label, \"Count\"))\n",
    "    print(\"*\"*40)\n",
    "    for k,v in list_of_tuples:\n",
    "        print(\"{:20} | {:>6}\".format(k,v))"
   ]
  },
  {
   "cell_type": "code",
   "execution_count": 38,
   "metadata": {},
   "outputs": [
    {
     "name": "stdout",
     "output_type": "stream",
     "text": [
      "\n",
      "        Word         | Count \n",
      "****************************************\n",
      "RT                   |     67\n",
      "#MannKiBaat50        |     37\n",
      "the                  |     30\n",
      "के                   |     24\n",
      "of                   |     23\n",
      "की                   |     22\n",
      "का                   |     21\n",
      "में                  |     20\n",
      "@narendramodi        |     20\n",
      "PM                   |     19\n",
      "\n",
      "    Screen Name      | Count \n",
      "****************************************\n",
      "narendramodi         |     24\n",
      "PMOIndia             |      7\n",
      "SBJadejaBJP          |      7\n",
      "iManishPatelBJP      |      6\n",
      "BJP4Gujarat          |      6\n",
      "BJP4India            |      5\n",
      "iPankajShukla        |      3\n",
      "mlapanchal           |      3\n",
      "mansukhmandviya      |      2\n",
      "vinirish             |      2\n",
      "\n",
      "      Hashtag        | Count \n",
      "****************************************\n",
      "MannKiBaat50         |     40\n",
      "MannKiBaat           |     12\n",
      "Ayodhya              |      1\n",
      "RamMandir            |      1\n",
      "MandirWahinBanayenge |      1\n",
      "Modi                 |      1\n",
      "youth                |      1\n",
      "GuruNanakDev         |      1\n",
      "GuruNana             |      1\n"
     ]
    }
   ],
   "source": [
    "for label, data in (('Word', words), \n",
    "                    ('Screen Name', screen_names), \n",
    "                    ('Hashtag', hashtags)):\n",
    "    \n",
    "    c = Counter(data)\n",
    "    prettyprint_counts(label, c.most_common()[:10])"
   ]
  },
  {
   "cell_type": "markdown",
   "metadata": {},
   "source": [
    "## Example 9. Finding the most popular retweets"
   ]
  },
  {
   "cell_type": "code",
   "execution_count": 39,
   "metadata": {},
   "outputs": [],
   "source": [
    "retweets = [\n",
    "            # Store out a tuple of these three values ...\n",
    "            (status['retweet_count'], \n",
    "             status['retweeted_status']['user']['screen_name'],\n",
    "             status['text'].replace(\"\\n\",\"\\\\\")) \n",
    "            \n",
    "            # ... for each status ...\n",
    "            for status in statuses \n",
    "            \n",
    "            # ... so long as the status meets this condition.\n",
    "                if 'retweeted_status' in status\n",
    "           ]"
   ]
  },
  {
   "cell_type": "markdown",
   "metadata": {},
   "source": [
    "We can build another `prettyprint` function to print entire tweets with their retweet count.\n",
    "\n",
    "We also want to split the text of the tweet in up to 3 lines, if needed."
   ]
  },
  {
   "cell_type": "code",
   "execution_count": 44,
   "metadata": {},
   "outputs": [],
   "source": [
    "row_template = \"{:^7} | {:^15} | {:50}\"\n",
    "def prettyprint_tweets(list_of_tuples):\n",
    "    print()\n",
    "    print(row_template.format(\"Count\", \"Screen Name\", \"Text\"))\n",
    "    print(\"*\"*80)\n",
    "    for count, screen_name, text in list_of_tuples:\n",
    "        print(row_template.format(count, screen_name, text[:50]))\n",
    "        if len(text) > 50:\n",
    "            print(row_template.format(\"\", \"\", text[50:100]))\n",
    "            if len(text) > 100:\n",
    "                print(row_template.format(\"\", \"\", text[100:]))"
   ]
  },
  {
   "cell_type": "code",
   "execution_count": 45,
   "metadata": {},
   "outputs": [
    {
     "name": "stdout",
     "output_type": "stream",
     "text": [
      "\n",
      " Count  |   Screen Name   | Text                                              \n",
      "********************************************************************************\n",
      "  716   |  narendramodi   | RT @narendramodi: We complete 50 episodes of shari\n",
      "        |                 | ng happiness. Tune in to today’s #MannKiBaat50. ht\n",
      "        |                 | tps://t.co/qXnj0K4jl5                             \n",
      "  497   |  narendramodi   | RT @narendramodi: The 50th episode of ‘Mann Ki Baa\n",
      "        |                 | t’ begins soon. Hear it on all channels of Doordar\n",
      "        |                 | shan and @AkashvaniAIR. The episode can…          \n",
      "  248   |    PMOIndia     | RT @PMOIndia: मोदी आएगा और चला जाएगा, लेकिन यह देश\n",
      "        |                 |  अटल रहेगा, हमारी संस्कृति अमर रहेगी | 130 करोड़ द\n",
      "        |                 | ेशवासियों की छोटी-छोटी यह कहानियाँ हमे…           \n",
      "  238   |    Ra_THORe     | RT @Ra_THORe: Today's #MannKiBaat is a special one\n",
      "        |                 | : the iconic program completes 50 episodes today.\\\n",
      "        |                 | \\Let's take a look back at what PM @nar…          \n",
      "  170   |    BJP4India    | RT @BJP4India: LIVE : 50th episode of Mann Ki Baat\n",
      "        |                 | . #MannKiBaat50 https://t.co/OPMyEaHfWs           \n",
      "  104   |    PMOIndia     | RT @PMOIndia: We began the 'Mann Ki Baat' journey \n",
      "        |                 | on 3rd October 2014 and today we have the Golden J\n",
      "        |                 | ubilee episode: PM @narendramodi #MannK…          \n",
      "  101   |   amitmalviya   | RT @amitmalviya: Prime Minister Narendra Modi has \n",
      "        |                 | transformed social discourse using this interactiv\n",
      "        |                 | e platform... #MannKiBaat50 https://t.c…          \n",
      "  90    |    PMOIndia     | RT @PMOIndia: Understanding the joys and aspiratio\n",
      "        |                 | ns of every Indian. #MannKiBaat50 https://t.co/wFY\n",
      "        |                 | e5dKAAa                                           \n",
      "  90    |    BJP4India    | RT @BJP4India: We began the 'Mann Ki Baat' journey\n",
      "        |                 |  on 3rd October 2014 and today we have the Golden \n",
      "        |                 | Jubilee episode: PM @narendramodi #Mann…          \n",
      "  89    |    PMOIndia     | RT @PMOIndia: PM @narendramodi is asked, how much \n",
      "        |                 | do you prepare before every 'Mann Ki Baat' - here \n",
      "        |                 | is what he is saying. #MannKiBaat50 htt…          \n"
     ]
    }
   ],
   "source": [
    "# Slice off the first 5 from the sorted results and display each item in the tuple\n",
    "\n",
    "prettyprint_tweets(sorted(retweets, reverse=True)[:10])"
   ]
  },
  {
   "cell_type": "code",
   "execution_count": null,
   "metadata": {
    "collapsed": true
   },
   "outputs": [],
   "source": []
  }
 ],
 "metadata": {
  "anaconda-cloud": {},
  "kernelspec": {
   "display_name": "Python 3",
   "language": "python",
   "name": "python3"
  },
  "language_info": {
   "codemirror_mode": {
    "name": "ipython",
    "version": 3
   },
   "file_extension": ".py",
   "mimetype": "text/x-python",
   "name": "python",
   "nbconvert_exporter": "python",
   "pygments_lexer": "ipython3",
   "version": "3.6.5"
  }
 },
 "nbformat": 4,
 "nbformat_minor": 1
}
